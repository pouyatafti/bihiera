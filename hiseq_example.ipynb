{
 "cells": [
  {
   "cell_type": "code",
   "execution_count": 1,
   "metadata": {
    "ExecuteTime": {
     "end_time": "2017-03-03T15:41:49.185895",
     "start_time": "2017-03-03T15:41:44.811890"
    },
    "collapsed": false
   },
   "outputs": [],
   "source": [
    "import hiseq"
   ]
  },
  {
   "cell_type": "code",
   "execution_count": 2,
   "metadata": {
    "ExecuteTime": {
     "end_time": "2017-03-03T15:41:49.197046",
     "start_time": "2017-03-03T15:41:49.193098"
    },
    "collapsed": false
   },
   "outputs": [],
   "source": [
    "def s2p(s):\n",
    "    return tuple(s.split(\".\")) if len(s) > 0 else tuple()\n",
    "\n",
    "def p2s(p):\n",
    "    return \".\".join(p)"
   ]
  },
  {
   "cell_type": "code",
   "execution_count": 3,
   "metadata": {
    "ExecuteTime": {
     "end_time": "2017-03-03T15:41:50.134767",
     "start_time": "2017-03-03T15:41:50.132215"
    },
    "collapsed": false
   },
   "outputs": [],
   "source": [
    "symbols = {\n",
    "    \"1.1.1\",\n",
    "    \"1.1.2\",\n",
    "    \"1.1.3\",\n",
    "    \"1.2.1.1\",\n",
    "    \"1.2.1.2\",\n",
    "    \"1.2.2\"\n",
    "}"
   ]
  },
  {
   "cell_type": "code",
   "execution_count": 4,
   "metadata": {
    "ExecuteTime": {
     "end_time": "2017-03-03T15:41:50.942869",
     "start_time": "2017-03-03T15:41:50.931856"
    },
    "collapsed": false
   },
   "outputs": [
    {
     "data": {
      "text/plain": [
       "[('1', '1', '3'),\n",
       " ('1', '1', '2'),\n",
       " ('1', '2', '1', '1'),\n",
       " ('1', '2', '1', '2'),\n",
       " ('1', '2', '2'),\n",
       " ('1', '1', '1')]"
      ]
     },
     "execution_count": 4,
     "metadata": {},
     "output_type": "execute_result"
    }
   ],
   "source": [
    "[s2p(s) for s in symbols]"
   ]
  },
  {
   "cell_type": "code",
   "execution_count": 5,
   "metadata": {
    "ExecuteTime": {
     "end_time": "2017-03-03T15:41:51.757477",
     "start_time": "2017-03-03T15:41:51.753341"
    },
    "collapsed": false
   },
   "outputs": [
    {
     "data": {
      "text/plain": [
       "['1.1.3', '1.1.2', '1.2.1.1', '1.2.1.2', '1.2.2', '1.1.1']"
      ]
     },
     "execution_count": 5,
     "metadata": {},
     "output_type": "execute_result"
    }
   ],
   "source": [
    "[p2s(s2p(s)) for s in symbols]"
   ]
  },
  {
   "cell_type": "code",
   "execution_count": 6,
   "metadata": {
    "ExecuteTime": {
     "end_time": "2017-03-03T15:41:53.275438",
     "start_time": "2017-03-03T15:41:53.218963"
    },
    "collapsed": false
   },
   "outputs": [],
   "source": [
    "reload(hiseq)\n",
    "hse = hiseq.HierarchicalSequenceEncoder(symbols=symbols, sym2path_fun=s2p, path2sym_fun=p2s)"
   ]
  },
  {
   "cell_type": "code",
   "execution_count": 8,
   "metadata": {
    "ExecuteTime": {
     "end_time": "2017-03-03T15:42:30.295795",
     "start_time": "2017-03-03T15:42:30.286713"
    },
    "collapsed": false
   },
   "outputs": [
    {
     "data": {
      "text/plain": [
       "[('', array([ 1.], dtype=float32)),\n",
       " ('1', array([ 1.], dtype=float32)),\n",
       " ('1.1', array([ 1.], dtype=float32)),\n",
       " ('1.1.1', array([ 1.], dtype=float32)),\n",
       " ('1.1.2', array([ 0.], dtype=float32)),\n",
       " ('1.1.3', array([ 0.], dtype=float32)),\n",
       " ('1.2', array([ 1.], dtype=float32)),\n",
       " ('1.2.1', array([ 0.5], dtype=float32)),\n",
       " ('1.2.1.1', array([ 0.25], dtype=float32)),\n",
       " ('1.2.1.2', array([ 0.25], dtype=float32)),\n",
       " ('1.2.2', array([ 0.5], dtype=float32))]"
      ]
     },
     "execution_count": 8,
     "metadata": {},
     "output_type": "execute_result"
    }
   ],
   "source": [
    "e = hse.encode(['1.1.1', '1.1', '1.2', ''])\n",
    "#[(hse._hc.i2s[hse._hc.i_leaves[i]],e[i,0]) for i in range(0,e.shape[0])]\n",
    "[(hse._hc.i2s[i],e[i]) for i in range(0,e.shape[0])]"
   ]
  },
  {
   "cell_type": "code",
   "execution_count": null,
   "metadata": {
    "collapsed": true
   },
   "outputs": [],
   "source": []
  }
 ],
 "metadata": {
  "anaconda-cloud": {},
  "kernelspec": {
   "display_name": "Python [conda env:sandbox]",
   "language": "python",
   "name": "conda-env-sandbox-py"
  },
  "language_info": {
   "codemirror_mode": {
    "name": "ipython",
    "version": 3
   },
   "file_extension": ".py",
   "mimetype": "text/x-python",
   "name": "python",
   "nbconvert_exporter": "python",
   "pygments_lexer": "ipython3",
   "version": "3.5.2"
  },
  "toc": {
   "nav_menu": {
    "height": "12px",
    "width": "252px"
   },
   "navigate_menu": true,
   "number_sections": true,
   "sideBar": true,
   "threshold": 4,
   "toc_cell": false,
   "toc_section_display": "block",
   "toc_window_display": false
  }
 },
 "nbformat": 4,
 "nbformat_minor": 1
}
