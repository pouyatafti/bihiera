{
 "cells": [
  {
   "cell_type": "code",
   "execution_count": 22,
   "metadata": {
    "ExecuteTime": {
     "end_time": "2017-03-08T08:52:04.605831",
     "start_time": "2017-03-08T08:52:04.603439"
    },
    "collapsed": false
   },
   "outputs": [],
   "source": [
    "import hiseq\n",
    "import hiseq_cpu\n",
    "\n",
    "from imp import reload"
   ]
  },
  {
   "cell_type": "code",
   "execution_count": 17,
   "metadata": {
    "ExecuteTime": {
     "end_time": "2017-03-08T08:51:31.572352",
     "start_time": "2017-03-08T08:51:31.567973"
    },
    "collapsed": false
   },
   "outputs": [],
   "source": [
    "def s2p(s):\n",
    "    return tuple(s.split(\".\")) if len(s) > 0 else tuple()\n",
    "\n",
    "def p2s(p):\n",
    "    return \".\".join(p)"
   ]
  },
  {
   "cell_type": "code",
   "execution_count": 18,
   "metadata": {
    "ExecuteTime": {
     "end_time": "2017-03-08T08:51:32.219463",
     "start_time": "2017-03-08T08:51:32.216527"
    },
    "collapsed": false
   },
   "outputs": [],
   "source": [
    "symbols = {\n",
    "    \"1.1.1\",\n",
    "    \"1.1.2\",\n",
    "    \"1.1.3\",\n",
    "    \"1.2.1.1\",\n",
    "    \"1.2.1.2\",\n",
    "    \"1.2.2\"\n",
    "}"
   ]
  },
  {
   "cell_type": "code",
   "execution_count": 19,
   "metadata": {
    "ExecuteTime": {
     "end_time": "2017-03-08T08:51:33.257513",
     "start_time": "2017-03-08T08:51:33.247537"
    },
    "collapsed": false
   },
   "outputs": [
    {
     "data": {
      "text/plain": [
       "[('1', '2', '1', '2'),\n",
       " ('1', '2', '1', '1'),\n",
       " ('1', '2', '2'),\n",
       " ('1', '1', '1'),\n",
       " ('1', '1', '3'),\n",
       " ('1', '1', '2')]"
      ]
     },
     "execution_count": 19,
     "metadata": {},
     "output_type": "execute_result"
    }
   ],
   "source": [
    "[s2p(s) for s in symbols]"
   ]
  },
  {
   "cell_type": "code",
   "execution_count": 20,
   "metadata": {
    "ExecuteTime": {
     "end_time": "2017-03-08T08:51:35.552538",
     "start_time": "2017-03-08T08:51:35.548529"
    },
    "collapsed": false
   },
   "outputs": [
    {
     "data": {
      "text/plain": [
       "['1.2.1.2', '1.2.1.1', '1.2.2', '1.1.1', '1.1.3', '1.1.2']"
      ]
     },
     "execution_count": 20,
     "metadata": {},
     "output_type": "execute_result"
    }
   ],
   "source": [
    "[p2s(s2p(s)) for s in symbols]"
   ]
  },
  {
   "cell_type": "code",
   "execution_count": 146,
   "metadata": {
    "ExecuteTime": {
     "end_time": "2017-03-08T10:00:25.873123",
     "start_time": "2017-03-08T10:00:25.838088"
    },
    "collapsed": false
   },
   "outputs": [],
   "source": [
    "reload(hiseq)\n",
    "reload(hiseq_cpu)\n",
    "\n",
    "hse = hiseq.HierarchicalSequenceEncoder(symbols=symbols, sym2path_fun=s2p, path2sym_fun=p2s)\n",
    "hse_cpu = hiseq_cpu.HierarchicalSequenceEncoder(symbols=symbols, sym2path_fun=s2p, path2sym_fun=p2s)"
   ]
  },
  {
   "cell_type": "code",
   "execution_count": 147,
   "metadata": {
    "ExecuteTime": {
     "end_time": "2017-03-08T10:00:28.249787",
     "start_time": "2017-03-08T10:00:26.530373"
    },
    "collapsed": false
   },
   "outputs": [
    {
     "name": "stdout",
     "output_type": "stream",
     "text": [
      "The slowest run took 26.26 times longer than the fastest. This could mean that an intermediate result is being cached.\n",
      "1000 loops, best of 3: 408 µs per loop\n"
     ]
    }
   ],
   "source": [
    "%timeit e = hse.encode(['1.1.1', '1.1', '1.2', ''])\n",
    "#[(hse._hc.i2s[i],e[i]) for i in range(0,e.shape[0])]"
   ]
  },
  {
   "cell_type": "code",
   "execution_count": 148,
   "metadata": {
    "ExecuteTime": {
     "end_time": "2017-03-08T10:00:36.616847",
     "start_time": "2017-03-08T10:00:29.501777"
    },
    "collapsed": false
   },
   "outputs": [
    {
     "name": "stdout",
     "output_type": "stream",
     "text": [
      "1000 loops, best of 3: 1.71 ms per loop\n"
     ]
    }
   ],
   "source": [
    "%timeit e = hse_cpu.encode(['1.1.1', '1.1', '1.2', ''])\n",
    "#[(hse_cpu._hc.i2s[i],e[i].todense()) for i in range(0,e.shape[0])]"
   ]
  },
  {
   "cell_type": "code",
   "execution_count": null,
   "metadata": {
    "collapsed": true
   },
   "outputs": [],
   "source": []
  }
 ],
 "metadata": {
  "anaconda-cloud": {},
  "kernelspec": {
   "display_name": "Python [conda env:sandbox]",
   "language": "python",
   "name": "conda-env-sandbox-py"
  },
  "toc": {
   "nav_menu": {
    "height": "12px",
    "width": "252px"
   },
   "navigate_menu": true,
   "number_sections": true,
   "sideBar": true,
   "threshold": 4,
   "toc_cell": false,
   "toc_section_display": "block",
   "toc_window_display": false
  }
 },
 "nbformat": 4,
 "nbformat_minor": 1
}
